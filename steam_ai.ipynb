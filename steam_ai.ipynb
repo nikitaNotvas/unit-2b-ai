{
 "cells": [
  {
   "cell_type": "code",
   "execution_count": 1,
   "metadata": {},
   "outputs": [],
   "source": [
    "import gpt_2_simple as gpt2"
   ]
  },
  {
   "cell_type": "code",
   "execution_count": 2,
   "metadata": {},
   "outputs": [],
   "source": [
    "session = gpt2.start_tf_sess()"
   ]
  },
  {
   "cell_type": "code",
   "execution_count": 3,
   "metadata": {},
   "outputs": [
    {
     "name": "stderr",
     "output_type": "stream",
     "text": [
      "2023-12-14 10:47:20.899796: I tensorflow/compiler/mlir/mlir_graph_optimization_pass.cc:388] MLIR V1 optimization pass is not enabled\n"
     ]
    },
    {
     "name": "stdout",
     "output_type": "stream",
     "text": [
      "Loading checkpoint models/124M/model.ckpt\n",
      "INFO:tensorflow:Restoring parameters from models/124M/model.ckpt\n",
      "Loading dataset...\n"
     ]
    },
    {
     "name": "stderr",
     "output_type": "stream",
     "text": [
      "100%|██████████| 1/1 [00:00<00:00, 2753.98it/s]"
     ]
    },
    {
     "name": "stdout",
     "output_type": "stream",
     "text": [
      "dataset has 2281 tokens\n",
      "Training...\n"
     ]
    },
    {
     "name": "stderr",
     "output_type": "stream",
     "text": [
      "\n"
     ]
    },
    {
     "name": "stdout",
     "output_type": "stream",
     "text": [
      "[1 | 16.97] loss=3.30 avg=3.30\n",
      "[2 | 32.25] loss=2.88 avg=3.09\n",
      "[3 | 47.04] loss=2.59 avg=2.92\n",
      "[4 | 61.67] loss=2.32 avg=2.77\n",
      "[5 | 76.47] loss=2.15 avg=2.64\n",
      "[6 | 91.12] loss=1.90 avg=2.52\n",
      "[7 | 105.87] loss=1.71 avg=2.40\n",
      "[8 | 120.58] loss=1.40 avg=2.27\n",
      "[9 | 135.32] loss=1.09 avg=2.13\n",
      "[10 | 150.02] loss=1.30 avg=2.04\n",
      "[11 | 164.80] loss=0.98 avg=1.94\n",
      "[12 | 179.49] loss=0.79 avg=1.84\n",
      "[13 | 194.21] loss=0.73 avg=1.75\n",
      "[14 | 209.05] loss=0.43 avg=1.65\n",
      "[15 | 223.80] loss=0.43 avg=1.56\n",
      "[16 | 238.58] loss=0.34 avg=1.48\n",
      "[17 | 253.32] loss=0.36 avg=1.41\n",
      "[18 | 268.14] loss=0.31 avg=1.34\n",
      "[19 | 282.95] loss=0.23 avg=1.28\n",
      "[20 | 297.86] loss=0.15 avg=1.22\n",
      "Saving checkpoint/steam/model-20\n"
     ]
    }
   ],
   "source": [
    "gpt2.finetune(session,\"steamcenter.txt\", model_name='124M',steps=20,run_name=\"steam\")"
   ]
  }
 ],
 "metadata": {
  "kernelspec": {
   "display_name": "Python 3",
   "language": "python",
   "name": "python3"
  },
  "language_info": {
   "codemirror_mode": {
    "name": "ipython",
    "version": 3
   },
   "file_extension": ".py",
   "mimetype": "text/x-python",
   "name": "python",
   "nbconvert_exporter": "python",
   "pygments_lexer": "ipython3",
   "version": "3.10.9"
  },
  "orig_nbformat": 4,
  "vscode": {
   "interpreter": {
    "hash": "b0fa6594d8f4cbf19f97940f81e996739fb7646882a419484c72d19e05852a7e"
   }
  }
 },
 "nbformat": 4,
 "nbformat_minor": 2
}
