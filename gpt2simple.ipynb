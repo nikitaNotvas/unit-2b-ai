{
 "cells": [
  {
   "cell_type": "code",
   "execution_count": 1,
   "metadata": {},
   "outputs": [],
   "source": [
    "import gpt_2_simple as gpt2"
   ]
  },
  {
   "cell_type": "code",
   "execution_count": 2,
   "metadata": {},
   "outputs": [],
   "source": [
    "#gpt2.download_gpt2(model_name='124M')"
   ]
  },
  {
   "cell_type": "code",
   "execution_count": 3,
   "metadata": {},
   "outputs": [],
   "source": [
    "session = gpt2.start_tf_sess()"
   ]
  },
  {
   "cell_type": "code",
   "execution_count": 4,
   "metadata": {},
   "outputs": [
    {
     "name": "stderr",
     "output_type": "stream",
     "text": [
      "2023-12-14 10:07:02.766571: I tensorflow/compiler/mlir/mlir_graph_optimization_pass.cc:388] MLIR V1 optimization pass is not enabled\n"
     ]
    },
    {
     "name": "stdout",
     "output_type": "stream",
     "text": [
      "Loading checkpoint checkpoint/run1/model-5\n",
      "INFO:tensorflow:Restoring parameters from checkpoint/run1/model-5\n",
      "Loading dataset...\n"
     ]
    },
    {
     "name": "stderr",
     "output_type": "stream",
     "text": [
      "100%|██████████| 1/1 [00:00<00:00,  1.41it/s]\n"
     ]
    },
    {
     "name": "stdout",
     "output_type": "stream",
     "text": [
      "dataset has 338024 tokens\n",
      "Training...\n",
      "[6 | 16.96] loss=3.74 avg=3.74\n",
      "[7 | 31.75] loss=3.66 avg=3.70\n",
      "[8 | 46.40] loss=3.65 avg=3.68\n",
      "[9 | 61.09] loss=3.89 avg=3.73\n",
      "[10 | 75.72] loss=3.60 avg=3.71\n",
      "Saving checkpoint/run1/model-10\n"
     ]
    }
   ],
   "source": [
    "gpt2.finetune(session,\"shakespare.txt\", model_name='124M',steps=5)"
   ]
  },
  {
   "cell_type": "code",
   "execution_count": 5,
   "metadata": {},
   "outputs": [
    {
     "name": "stdout",
     "output_type": "stream",
     "text": [
      "Carlos: I want to get Coca Cola and maybe some free water, but I do not know how to get it\n",
      "\n",
      "Kerry: I don't know how to get it\n",
      "\n",
      "Pete: No, I'm not.\n",
      "\n",
      "Kerry: I don't know how to get it.\n",
      "\n",
      "Pete: I think I want to get it\n",
      "\n",
      "Kerry: I'm not sure if I want to get it.\n",
      "\n",
      "Pete: I think I want to get it.\n",
      "\n",
      "Kerry: I think I will.\n",
      "\n",
      "Pete: I will not.\n",
      "\n",
      "Kerry: I will not, but I will not try to get it.\n",
      "\n",
      "Pete: I thought I would try to get it.\n",
      "\n",
      "Kerry: I will try to get it.\n",
      "\n",
      "Pete: I'll try to get it.\n",
      "\n",
      "Kerry: I'll try to get it.\n",
      "\n",
      "Pete: I'll try to get it.\n",
      "\n",
      "Kerry: I'll try to get it.\n",
      "\n",
      "\n",
      "Pete: I'll try to get it.\n",
      "\n",
      "Kerry: I'll try to get it.\n",
      "\n",
      "Kerry: I'll try to get it.\n",
      "\n",
      "Pete: I'll try to get it.\n",
      "\n",
      "Kerry: I'll try to get it.\n",
      "\n",
      "Pete: I'll try to get it.\n",
      "\n",
      "Kerry: I'll try to get it.\n",
      "\n",
      "Pete: I'll try to get it.\n",
      "\n",
      "Kerry: I'll try to get it.\n",
      "\n",
      "Pete: I'll try to get it.\n",
      "\n",
      "Kerry: I'll try to get it.\n",
      "\n",
      "Pete: I'll try to get it.\n",
      "\n",
      "Kerry: I'll try to get it.\n",
      "\n",
      "Pete: I'll try to get it.\n",
      "\n",
      "Kerry: I'll try to get it.\n",
      "\n",
      "Pete: I'll try to get it.\n",
      "\n",
      "Kerry: I'll try to get it.\n",
      "\n",
      "Pete: I'll try to get it.\n",
      "\n",
      "Kerry: I'll try to get it.\n",
      "\n",
      "Pete: I'll try to get it.\n",
      "\n",
      "Kerry: I'll try to get it.\n",
      "\n",
      "[Ed. note: I did not know what to do with this note. I just knew that this was a matter of truth.]\n",
      "\n",
      "Kerry: I think I will try to get it, yes, but I will not do so unless I have given myself the chance.\n",
      "\n",
      "[Ed. note: I did not know what to do with this note. I just knew that this was a matter of truth.]\n",
      "\n",
      "Kerry: I will, but I will not.\n",
      "\n",
      "\n",
      "[Ed. note: I did not know what to do with this note. I just knew that this was a matter of truth.]\n",
      "\n",
      "Kerry: I will not, but I will not do so unless I have given myself the chance.\n",
      "\n",
      "\n",
      "\n",
      "[Ed. note: I did not know what to do with this note. I just knew that this was a matter of truth.]\n",
      "\n",
      "Kerry: I will not, but I will not.<|endoftext|>CLOSE The @DaltonReport's Mike Cernovich on the likely end of Donald Trump's presidency\n",
      "Buy Photo Donald Trump speaks to reporters after being sworn in as President-elect Donald Trump on Tuesday. (Photo: File photo)Buy Photo\n",
      "\n",
      "WASHINGTON — Donald Trump is known as an oaf.\n",
      "\n",
      "He says it's been \"a good year\" and is now \"far more powerful than any president in history\".\n",
      "\n",
      "He says he's \"a big guy, a big, big guy.\"\n",
      "\n",
      "He has called for the murder of U.S. citizens by the Islamic State. He's also said he's been the \"one who killed the American citizens.\"\n",
      "\n",
      "His accusation of terrorism is so serious that he would kill an American citizen, the president of the United States, if he were to do so.\n",
      "\n",
      "That's he.\n",
      "\n",
      "Trump, as the newest president in the history of the United States, is a man who has been an oaf, a big guy and an oaf.\n",
      "\n",
      "But he is a big guy, a big, big guy.\n",
      "\n",
      "This is not a good year.\n",
      "\n",
      "Donald Trump is the most powerful man in modern times.\n",
      "\n",
      "It's not a good year.\n",
      "Why? Because he's not oaf.\n",
      "\n",
      "He's not a big guy.\n",
      "He's not a big, big guy.\n",
      "\n",
      "The Oaf is a big guy.\n",
      "And the Oaf is a big guy.\n",
      "\n",
      "The Oaf is a big, big guy.\n",
      "But the Oaf is not a big, big guy.\n",
      "He's not a big, big guy.\n",
      "\n",
      "Or, more accurately, the Oaf is not a big\n"
     ]
    }
   ],
   "source": [
    "gpt2.generate(session, prefix='Carlos: I want to get Coca Cola')"
   ]
  }
 ],
 "metadata": {
  "kernelspec": {
   "display_name": "Python 3",
   "language": "python",
   "name": "python3"
  },
  "language_info": {
   "codemirror_mode": {
    "name": "ipython",
    "version": 3
   },
   "file_extension": ".py",
   "mimetype": "text/x-python",
   "name": "python",
   "nbconvert_exporter": "python",
   "pygments_lexer": "ipython3",
   "version": "3.10.9"
  },
  "orig_nbformat": 4,
  "vscode": {
   "interpreter": {
    "hash": "b0fa6594d8f4cbf19f97940f81e996739fb7646882a419484c72d19e05852a7e"
   }
  }
 },
 "nbformat": 4,
 "nbformat_minor": 2
}
